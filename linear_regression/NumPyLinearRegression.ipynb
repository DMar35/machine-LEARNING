{
  "nbformat": 4,
  "nbformat_minor": 0,
  "metadata": {
    "colab": {
      "provenance": [],
      "authorship_tag": "ABX9TyOJs+Rs8+7dFSdXnbQCmrRK",
      "include_colab_link": true
    },
    "kernelspec": {
      "name": "python3",
      "display_name": "Python 3"
    },
    "language_info": {
      "name": "python"
    }
  },
  "cells": [
    {
      "cell_type": "markdown",
      "metadata": {
        "id": "view-in-github",
        "colab_type": "text"
      },
      "source": [
        "<a href=\"https://colab.research.google.com/github/DMar35/machine-LEARNING/blob/main/linear_regression/NumPyLinearRegression.ipynb\" target=\"_parent\"><img src=\"https://colab.research.google.com/assets/colab-badge.svg\" alt=\"Open In Colab\"/></a>"
      ]
    },
    {
      "cell_type": "code",
      "execution_count": 52,
      "metadata": {
        "id": "laFCCjtb2Fn8"
      },
      "outputs": [],
      "source": [
        "import numpy as np\n",
        "from sklearn.datasets import load_diabetes\n",
        "from sklearn.model_selection import train_test_split"
      ]
    },
    {
      "cell_type": "code",
      "source": [
        "#Load dataset into features and labels(target values)\n",
        "X, y = load_diabetes(return_X_y=True)\n",
        "X_train, X_test, y_train, y_test = train_test_split(X, y, test_size=0.2, random_state=42)\n",
        "print(X.shape)\n",
        "print(y.shape)\n",
        "print(f\"Training data shape: {X_train.shape}\")\n",
        "print(f\"Testing data shape: {X_test.shape}\")"
      ],
      "metadata": {
        "colab": {
          "base_uri": "https://localhost:8080/"
        },
        "id": "5kip6VFp2j6M",
        "outputId": "02a38df2-8c1b-410e-e0b5-f28bcebbd855"
      },
      "execution_count": 53,
      "outputs": [
        {
          "output_type": "stream",
          "name": "stdout",
          "text": [
            "(442, 10)\n",
            "(442,)\n",
            "Training data shape: (353, 10)\n",
            "Testing data shape: (89, 10)\n"
          ]
        }
      ]
    },
    {
      "cell_type": "code",
      "source": [
        "class LinearRegressionModel:\n",
        "  def __init__(self, learning_rate=0.1):\n",
        "    self.learning_rate = learning_rate\n",
        "    self.weights = None\n",
        "    self.bias = None\n",
        "    # self.weights = np.random.randn(10)   # ✅ One weight per feature. The dataset we are using has 10 features\n",
        "    # self.bias = np.random.randn()        # ✅ One scalar bias\n",
        "\n",
        "  def predict(self, data: np.ndarray):\n",
        "    predictions = self.bias + (data @ self.weights)\n",
        "    return predictions\n",
        "\n",
        "  def loss(self, data, labels):\n",
        "    predictions = self.predict(data)\n",
        "    mean_squared_error = np.mean((predictions - labels) ** 2)\n",
        "    return mean_squared_error\n",
        "\n",
        "  def compute_gradients(self, data, labels):\n",
        "    error = self.predict(data) - labels\n",
        "    weight_grad = data.T @ error / len(data)\n",
        "    bias_grad = error.mean()\n",
        "    return (weight_grad, bias_grad)\n",
        "\n",
        "  def fit(self, data, labels, epochs=1000):\n",
        "    example_count, feature_count = data.shape\n",
        "    if not self.weights:\n",
        "      self.weights = np.random.randn(feature_count)\n",
        "      self.bias = np.random.randn()\n",
        "\n",
        "    for i in range(epochs):\n",
        "      weight_grad, bias_grad = self.compute_gradients(data, labels)\n",
        "      self.bias -= self.learning_rate * bias_grad\n",
        "      self.weights -= self.learning_rate * weight_grad\n",
        "\n",
        "      if (i + 1) % 1000 == 0: # Print less often to avoid clutter\n",
        "        current_loss = self.loss(data, labels)\n",
        "        print(f\"Epoch {i + 1}, Loss: {current_loss}\")\n",
        "\n",
        "\n"
      ],
      "metadata": {
        "id": "qwLCnf1K47P3"
      },
      "execution_count": 54,
      "outputs": []
    },
    {
      "cell_type": "code",
      "source": [
        "#Train Model:\n",
        "model = LinearRegressionModel(1) #Can use a larger learning rate for linear regression since it only has one global minimum\n",
        "model.fit(X_train, y_train, 2000)\n",
        "\n",
        "#Evaluate model on training set:\n",
        "train_loss = model.loss(X_train, y_train)\n",
        "\n",
        "#Evaluate model on test set:\n",
        "test_loss = model.loss(X_test, y_test)\n",
        "\n",
        "print(\"\\n--- Evaluation ---\")\n",
        "print(f\"Final Training Loss (MSE): {train_loss:.4f}\")\n",
        "print(f\"Final Test Loss (MSE):     {test_loss:.4f}\")\n",
        "\n"
      ],
      "metadata": {
        "colab": {
          "base_uri": "https://localhost:8080/"
        },
        "id": "m5IUhUBtEBi6",
        "outputId": "a2ff77b9-c008-44fe-c5e4-a2890072bca1"
      },
      "execution_count": 56,
      "outputs": [
        {
          "output_type": "stream",
          "name": "stdout",
          "text": [
            "Epoch 1000, Loss: 2914.6036918824952\n",
            "Epoch 2000, Loss: 2897.9945542099117\n",
            "\n",
            "--- Evaluation ---\n",
            "Final Training Loss (MSE): 2897.9946\n",
            "Final Test Loss (MSE):     2880.3789\n"
          ]
        }
      ]
    }
  ]
}