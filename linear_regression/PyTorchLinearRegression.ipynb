{
  "nbformat": 4,
  "nbformat_minor": 0,
  "metadata": {
    "colab": {
      "provenance": [],
      "authorship_tag": "ABX9TyPvu57jonvG6qosbEOUBugI",
      "include_colab_link": true
    },
    "kernelspec": {
      "name": "python3",
      "display_name": "Python 3"
    },
    "language_info": {
      "name": "python"
    }
  },
  "cells": [
    {
      "cell_type": "markdown",
      "metadata": {
        "id": "view-in-github",
        "colab_type": "text"
      },
      "source": [
        "<a href=\"https://colab.research.google.com/github/DMar35/machine-LEARNING/blob/main/linear_regression/PyTorchLinearRegression.ipynb\" target=\"_parent\"><img src=\"https://colab.research.google.com/assets/colab-badge.svg\" alt=\"Open In Colab\"/></a>"
      ]
    },
    {
      "cell_type": "code",
      "execution_count": null,
      "metadata": {
        "id": "YGb1zyq76Bg0"
      },
      "outputs": [],
      "source": [
        "import torch\n",
        "import torch.nn as nn\n",
        "import numpy as np\n",
        "from sklearn.datasets import load_diabetes\n",
        "from sklearn.model_selection import train_test_split"
      ]
    },
    {
      "cell_type": "code",
      "source": [
        "X, y = load_diabetes(return_X_y=True)\n",
        "X_train, X_test, y_train, y_test = train_test_split(X, y, test_size=0.2, random_state=42)\n",
        "\n",
        "# Convert loaded dataset to numpy tensors\n",
        "X_train = torch.from_numpy(X_train.astype(np.float32))\n",
        "y_train = torch.from_numpy(y_train.astype(np.float32))\n",
        "X_test = torch.from_numpy(X_test.astype(np.float32))\n",
        "y_test = torch.from_numpy(y_test.astype(np.float32))\n",
        "\n",
        "print(f\"Training data shape: {X_train.shape}\")\n",
        "print(f\"Testing data shape: {X_test.shape}\")\n",
        "\n",
        "# --- Reshape Target Tensors ---\n",
        "# The model's output (from nn.Linear(..., 1)) has a 2D shape of [batch_size, 1].\n",
        "# Our y tensors are currently 1D vectors of shape [batch_size].\n",
        "# To prevent a shape mismatch error in the loss function, we reshape y to a 2D column vector.\n",
        "# .view(-1, 1) tells PyTorch: \"I want 1 column, and you figure out the number of rows (-1) needed.\"\n",
        "# -1 is usually passed in as the second argument and {variable_name}.size(0) as the first\n",
        "y_train = y_train.view(-1, 1)\n",
        "y_test = y_test.view(-1, 1)\n",
        "\n"
      ],
      "metadata": {
        "id": "sFu2di_k2HWj"
      },
      "execution_count": null,
      "outputs": []
    },
    {
      "cell_type": "code",
      "source": [
        "class PyTorchLRModel(nn.Module):\n",
        "  # NOTE: For linear regression, output_features is always 1.\n",
        "  # It is simply added as a param here to show best practices.\n",
        "  def __init__(self, input_features, output_features=1):\n",
        "    super().__init__()\n",
        "    self.linear = nn.Linear(input_features, output_features) # 1 represents number of output features\n",
        "\n",
        "  def forward(self, data):\n",
        "    return self.linear(data)"
      ],
      "metadata": {
        "id": "Oz0xrdCwtuoN"
      },
      "execution_count": null,
      "outputs": []
    },
    {
      "cell_type": "code",
      "source": [
        "n_samples, n_features = X_train.shape\n",
        "model = PyTorchLRModel(n_features)\n",
        "\n",
        "LEARNING_RATE = 0.1\n",
        "EPOCHS = 5000\n",
        "loss_function = nn.MSELoss()\n",
        "optimizer = torch.optim.SGD(model.parameters(), lr=LEARNING_RATE)\n",
        "\n",
        "# This training loop uses batch gradient descent(despite the SGD name lol)\n",
        "# To use mini-batch GD or SGD, use DataLoader and update training loop to loop through each batch\n",
        "for epoch in range(EPOCHS):\n",
        "  # Compute predictions by passing training data to the model\n",
        "  # Automatically calls the forward function\n",
        "  prediction = model(X_train)\n",
        "\n",
        "  # Loss function, MSE in this case\n",
        "  loss = loss_function(prediction, y_train)\n",
        "\n",
        "  # Compute gradients\n",
        "  loss.backward()\n",
        "\n",
        "  # Update weights\n",
        "  optimizer.step()\n",
        "\n",
        "  # Reset gradients to zero for next epoch\n",
        "  optimizer.zero_grad()\n",
        "\n",
        "  if (epoch + 1) % 500 == 0:\n",
        "        print(f'Epoch [{epoch+1}/{EPOCHS}], Loss: {loss.item():.4f}')\n",
        "\n",
        "\n",
        "model.eval()\n",
        "with torch.no_grad():\n",
        "    train_loss = loss_function(model(X_train), y_train)\n",
        "    test_loss = loss_function(model(X_test), y_test)\n",
        "\n",
        "print(\"\\n--- Evaluation ---\")\n",
        "print(f\"Final Training Loss (MSE): {train_loss.item():.4f}\")\n",
        "print(f\"Final Test Loss (MSE):     {test_loss.item():.4f}\")\n"
      ],
      "metadata": {
        "colab": {
          "base_uri": "https://localhost:8080/"
        },
        "id": "QdovjFxIyw3e",
        "outputId": "70dfc818-a9fb-4609-8dc6-5ecfb95b0195"
      },
      "execution_count": 29,
      "outputs": [
        {
          "output_type": "stream",
          "name": "stdout",
          "text": [
            "Epoch [500/5000], Loss: 4010.1594\n",
            "Epoch [1000/5000], Loss: 3443.9465\n",
            "Epoch [1500/5000], Loss: 3214.8474\n",
            "Epoch [2000/5000], Loss: 3094.1084\n",
            "Epoch [2500/5000], Loss: 3022.8921\n",
            "Epoch [3000/5000], Loss: 2979.0203\n",
            "Epoch [3500/5000], Loss: 2951.4006\n",
            "Epoch [4000/5000], Loss: 2933.7334\n",
            "Epoch [4500/5000], Loss: 2922.2607\n",
            "Epoch [5000/5000], Loss: 2914.6968\n",
            "\n",
            "--- Evaluation ---\n",
            "Final Training Loss (MSE): 2914.6841\n",
            "Final Test Loss (MSE):     2866.7810\n"
          ]
        }
      ]
    }
  ]
}